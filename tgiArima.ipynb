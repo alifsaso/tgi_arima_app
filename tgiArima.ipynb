{
 "cells": [
  {
   "cell_type": "markdown",
   "id": "fc0f137a",
   "metadata": {},
   "source": [
    "# Tugas Akhir ITS05 Kel. 08\n",
    "\n",
    "## Analisis Time Series untuk Penjualan Alkes Menggunakan ARIMA"
   ]
  },
  {
   "cell_type": "markdown",
   "id": "30615ce6",
   "metadata": {},
   "source": [
    "## 1. Business Understanding"
   ]
  },
  {
   "cell_type": "code",
   "execution_count": null,
   "id": "696ba57e",
   "metadata": {},
   "outputs": [],
   "source": []
  },
  {
   "cell_type": "markdown",
   "id": "0909c891",
   "metadata": {},
   "source": [
    "## 2. Data Understanding"
   ]
  },
  {
   "cell_type": "code",
   "execution_count": 1,
   "id": "f57d4d37",
   "metadata": {},
   "outputs": [],
   "source": [
    "# import librari yang diperlukan\n",
    "import pandas as pd\n",
    "import matplotlib.pyplot as plt\n",
    "%matplotlib inline\n",
    "from sklearn.metrics import mean_squared_error\n",
    "from math import sqrt"
   ]
  },
  {
   "cell_type": "code",
   "execution_count": 2,
   "id": "3debb72c",
   "metadata": {},
   "outputs": [],
   "source": [
    "# load data \n",
    "dts=pd.read_csv('detail_penjualan_4.csv', header=0,parse_dates=True, index_col='tgl_jual')"
   ]
  },
  {
   "cell_type": "code",
   "execution_count": 3,
   "id": "843f93b5",
   "metadata": {},
   "outputs": [
    {
     "data": {
      "text/html": [
       "<div>\n",
       "<style scoped>\n",
       "    .dataframe tbody tr th:only-of-type {\n",
       "        vertical-align: middle;\n",
       "    }\n",
       "\n",
       "    .dataframe tbody tr th {\n",
       "        vertical-align: top;\n",
       "    }\n",
       "\n",
       "    .dataframe thead th {\n",
       "        text-align: right;\n",
       "    }\n",
       "</style>\n",
       "<table border=\"1\" class=\"dataframe\">\n",
       "  <thead>\n",
       "    <tr style=\"text-align: right;\">\n",
       "      <th></th>\n",
       "      <th>id</th>\n",
       "      <th>no_faktur</th>\n",
       "      <th>idbarang</th>\n",
       "      <th>sn</th>\n",
       "      <th>qtt</th>\n",
       "      <th>hrg_jual</th>\n",
       "      <th>pot_onf</th>\n",
       "      <th>pot_off</th>\n",
       "      <th>hrg_beli</th>\n",
       "      <th>nama_barang</th>\n",
       "      <th>satuan</th>\n",
       "      <th>idkategori</th>\n",
       "      <th>nama_kategori</th>\n",
       "      <th>merek</th>\n",
       "      <th>nama_merek</th>\n",
       "      <th>idcustomer</th>\n",
       "      <th>nama_customer</th>\n",
       "      <th>alamat</th>\n",
       "      <th>kota</th>\n",
       "    </tr>\n",
       "    <tr>\n",
       "      <th>tgl_jual</th>\n",
       "      <th></th>\n",
       "      <th></th>\n",
       "      <th></th>\n",
       "      <th></th>\n",
       "      <th></th>\n",
       "      <th></th>\n",
       "      <th></th>\n",
       "      <th></th>\n",
       "      <th></th>\n",
       "      <th></th>\n",
       "      <th></th>\n",
       "      <th></th>\n",
       "      <th></th>\n",
       "      <th></th>\n",
       "      <th></th>\n",
       "      <th></th>\n",
       "      <th></th>\n",
       "      <th></th>\n",
       "      <th></th>\n",
       "    </tr>\n",
       "  </thead>\n",
       "  <tbody>\n",
       "    <tr>\n",
       "      <th>2016-01-04</th>\n",
       "      <td>4114</td>\n",
       "      <td>5166</td>\n",
       "      <td>61008</td>\n",
       "      <td>NaN</td>\n",
       "      <td>1</td>\n",
       "      <td>1735000.0</td>\n",
       "      <td>0.0</td>\n",
       "      <td>0.0</td>\n",
       "      <td>1400000</td>\n",
       "      <td>LIOFILCHEM Brain Heart Infusion Broth 500gram</td>\n",
       "      <td>Botol</td>\n",
       "      <td>30</td>\n",
       "      <td>Mikrobiologi</td>\n",
       "      <td>187</td>\n",
       "      <td>LIOFILCHEM</td>\n",
       "      <td>28</td>\n",
       "      <td>Lab Sano</td>\n",
       "      <td>Jl. Buana Raya. Padangsambian. Denpasar Bar.. ...</td>\n",
       "      <td>DENPASAR</td>\n",
       "    </tr>\n",
       "    <tr>\n",
       "      <th>2016-01-04</th>\n",
       "      <td>4115</td>\n",
       "      <td>5312</td>\n",
       "      <td>610040</td>\n",
       "      <td>NaN</td>\n",
       "      <td>1</td>\n",
       "      <td>1245000.0</td>\n",
       "      <td>0.0</td>\n",
       "      <td>186750.0</td>\n",
       "      <td>954000</td>\n",
       "      <td>LIOFILCHEM Plate Count Agar 500gram</td>\n",
       "      <td>Botol</td>\n",
       "      <td>30</td>\n",
       "      <td>Mikrobiologi</td>\n",
       "      <td>187</td>\n",
       "      <td>LIOFILCHEM</td>\n",
       "      <td>29</td>\n",
       "      <td>Lab Hidro</td>\n",
       "      <td>Jl. Raya Abianbase. Kapal. Mengwi - Badung</td>\n",
       "      <td>Badung</td>\n",
       "    </tr>\n",
       "    <tr>\n",
       "      <th>2016-01-04</th>\n",
       "      <td>4116</td>\n",
       "      <td>5312</td>\n",
       "      <td>610028</td>\n",
       "      <td>NaN</td>\n",
       "      <td>1</td>\n",
       "      <td>1190000.0</td>\n",
       "      <td>0.0</td>\n",
       "      <td>178500.0</td>\n",
       "      <td>0</td>\n",
       "      <td>LIOFILCHEM-MacConkey Agar 500gram</td>\n",
       "      <td>Botol</td>\n",
       "      <td>30</td>\n",
       "      <td>Mikrobiologi</td>\n",
       "      <td>187</td>\n",
       "      <td>LIOFILCHEM</td>\n",
       "      <td>29</td>\n",
       "      <td>Lab Hidro</td>\n",
       "      <td>Jl. Raya Abianbase. Kapal. Mengwi - Badung</td>\n",
       "      <td>Badung</td>\n",
       "    </tr>\n",
       "    <tr>\n",
       "      <th>2016-01-04</th>\n",
       "      <td>4117</td>\n",
       "      <td>5312</td>\n",
       "      <td>611202</td>\n",
       "      <td>NaN</td>\n",
       "      <td>1</td>\n",
       "      <td>1400000.0</td>\n",
       "      <td>0.0</td>\n",
       "      <td>210000.0</td>\n",
       "      <td>795000</td>\n",
       "      <td>LIOFILCHEM Lactose Broth 500gram</td>\n",
       "      <td>Botol</td>\n",
       "      <td>30</td>\n",
       "      <td>Mikrobiologi</td>\n",
       "      <td>187</td>\n",
       "      <td>LIOFILCHEM</td>\n",
       "      <td>29</td>\n",
       "      <td>Lab Hidro</td>\n",
       "      <td>Jl. Raya Abianbase. Kapal. Mengwi - Badung</td>\n",
       "      <td>Badung</td>\n",
       "    </tr>\n",
       "    <tr>\n",
       "      <th>2016-01-04</th>\n",
       "      <td>4118</td>\n",
       "      <td>5312</td>\n",
       "      <td>611402</td>\n",
       "      <td>NaN</td>\n",
       "      <td>1</td>\n",
       "      <td>2300000.0</td>\n",
       "      <td>0.0</td>\n",
       "      <td>345000.0</td>\n",
       "      <td>1696000</td>\n",
       "      <td>LIOFILCHEM Carry Blair Medium 500gram</td>\n",
       "      <td>Botol</td>\n",
       "      <td>30</td>\n",
       "      <td>Mikrobiologi</td>\n",
       "      <td>187</td>\n",
       "      <td>LIOFILCHEM</td>\n",
       "      <td>29</td>\n",
       "      <td>Lab Hidro</td>\n",
       "      <td>Jl. Raya Abianbase. Kapal. Mengwi - Badung</td>\n",
       "      <td>Badung</td>\n",
       "    </tr>\n",
       "  </tbody>\n",
       "</table>\n",
       "</div>"
      ],
      "text/plain": [
       "              id no_faktur idbarang  sn  qtt   hrg_jual  pot_onf   pot_off  \\\n",
       "tgl_jual                                                                     \n",
       "2016-01-04  4114      5166    61008 NaN    1  1735000.0      0.0       0.0   \n",
       "2016-01-04  4115      5312   610040 NaN    1  1245000.0      0.0  186750.0   \n",
       "2016-01-04  4116      5312   610028 NaN    1  1190000.0      0.0  178500.0   \n",
       "2016-01-04  4117      5312   611202 NaN    1  1400000.0      0.0  210000.0   \n",
       "2016-01-04  4118      5312   611402 NaN    1  2300000.0      0.0  345000.0   \n",
       "\n",
       "           hrg_beli                                    nama_barang satuan  \\\n",
       "tgl_jual                                                                    \n",
       "2016-01-04  1400000  LIOFILCHEM Brain Heart Infusion Broth 500gram  Botol   \n",
       "2016-01-04   954000            LIOFILCHEM Plate Count Agar 500gram  Botol   \n",
       "2016-01-04        0              LIOFILCHEM-MacConkey Agar 500gram  Botol   \n",
       "2016-01-04   795000               LIOFILCHEM Lactose Broth 500gram  Botol   \n",
       "2016-01-04  1696000          LIOFILCHEM Carry Blair Medium 500gram  Botol   \n",
       "\n",
       "           idkategori nama_kategori merek  nama_merek  idcustomer  \\\n",
       "tgl_jual                                                            \n",
       "2016-01-04         30  Mikrobiologi   187  LIOFILCHEM          28   \n",
       "2016-01-04         30  Mikrobiologi   187  LIOFILCHEM          29   \n",
       "2016-01-04         30  Mikrobiologi   187  LIOFILCHEM          29   \n",
       "2016-01-04         30  Mikrobiologi   187  LIOFILCHEM          29   \n",
       "2016-01-04         30  Mikrobiologi   187  LIOFILCHEM          29   \n",
       "\n",
       "           nama_customer                                             alamat  \\\n",
       "tgl_jual                                                                      \n",
       "2016-01-04      Lab Sano  Jl. Buana Raya. Padangsambian. Denpasar Bar.. ...   \n",
       "2016-01-04     Lab Hidro         Jl. Raya Abianbase. Kapal. Mengwi - Badung   \n",
       "2016-01-04     Lab Hidro         Jl. Raya Abianbase. Kapal. Mengwi - Badung   \n",
       "2016-01-04     Lab Hidro         Jl. Raya Abianbase. Kapal. Mengwi - Badung   \n",
       "2016-01-04     Lab Hidro         Jl. Raya Abianbase. Kapal. Mengwi - Badung   \n",
       "\n",
       "                kota  \n",
       "tgl_jual              \n",
       "2016-01-04  DENPASAR  \n",
       "2016-01-04    Badung  \n",
       "2016-01-04    Badung  \n",
       "2016-01-04    Badung  \n",
       "2016-01-04    Badung  "
      ]
     },
     "execution_count": 3,
     "metadata": {},
     "output_type": "execute_result"
    }
   ],
   "source": [
    "# cek lima data awal\n",
    "dts=dts.copy()\n",
    "dts.head()"
   ]
  },
  {
   "cell_type": "code",
   "execution_count": 4,
   "id": "60b461dc",
   "metadata": {},
   "outputs": [
    {
     "data": {
      "text/html": [
       "<div>\n",
       "<style scoped>\n",
       "    .dataframe tbody tr th:only-of-type {\n",
       "        vertical-align: middle;\n",
       "    }\n",
       "\n",
       "    .dataframe tbody tr th {\n",
       "        vertical-align: top;\n",
       "    }\n",
       "\n",
       "    .dataframe thead th {\n",
       "        text-align: right;\n",
       "    }\n",
       "</style>\n",
       "<table border=\"1\" class=\"dataframe\">\n",
       "  <thead>\n",
       "    <tr style=\"text-align: right;\">\n",
       "      <th></th>\n",
       "      <th>id</th>\n",
       "      <th>no_faktur</th>\n",
       "      <th>idbarang</th>\n",
       "      <th>sn</th>\n",
       "      <th>qtt</th>\n",
       "      <th>hrg_jual</th>\n",
       "      <th>pot_onf</th>\n",
       "      <th>pot_off</th>\n",
       "      <th>hrg_beli</th>\n",
       "      <th>nama_barang</th>\n",
       "      <th>satuan</th>\n",
       "      <th>idkategori</th>\n",
       "      <th>nama_kategori</th>\n",
       "      <th>merek</th>\n",
       "      <th>nama_merek</th>\n",
       "      <th>idcustomer</th>\n",
       "      <th>nama_customer</th>\n",
       "      <th>alamat</th>\n",
       "      <th>kota</th>\n",
       "    </tr>\n",
       "    <tr>\n",
       "      <th>tgl_jual</th>\n",
       "      <th></th>\n",
       "      <th></th>\n",
       "      <th></th>\n",
       "      <th></th>\n",
       "      <th></th>\n",
       "      <th></th>\n",
       "      <th></th>\n",
       "      <th></th>\n",
       "      <th></th>\n",
       "      <th></th>\n",
       "      <th></th>\n",
       "      <th></th>\n",
       "      <th></th>\n",
       "      <th></th>\n",
       "      <th></th>\n",
       "      <th></th>\n",
       "      <th></th>\n",
       "      <th></th>\n",
       "      <th></th>\n",
       "    </tr>\n",
       "  </thead>\n",
       "  <tbody>\n",
       "    <tr>\n",
       "      <th>2019-12-31</th>\n",
       "      <td>23287</td>\n",
       "      <td>9139</td>\n",
       "      <td>D1-008E</td>\n",
       "      <td>NaN</td>\n",
       "      <td>1</td>\n",
       "      <td>7800000.0</td>\n",
       "      <td>780000.0</td>\n",
       "      <td>780000.0</td>\n",
       "      <td>\\N</td>\n",
       "      <td>CORNLEY Reagent Pack Electrolite</td>\n",
       "      <td>Box</td>\n",
       "      <td>28</td>\n",
       "      <td>Diagnostic 1</td>\n",
       "      <td>74</td>\n",
       "      <td>CORNLEY</td>\n",
       "      <td>46</td>\n",
       "      <td>RSU Dharma Yadnya</td>\n",
       "      <td>Jl. WR. Supratman No. 256. Tohati. Jl. Wage Ru...</td>\n",
       "      <td>Denpasar</td>\n",
       "    </tr>\n",
       "    <tr>\n",
       "      <th>2019-12-31</th>\n",
       "      <td>23288</td>\n",
       "      <td>9140</td>\n",
       "      <td>GD050A</td>\n",
       "      <td>NaN</td>\n",
       "      <td>3</td>\n",
       "      <td>180000.0</td>\n",
       "      <td>0.0</td>\n",
       "      <td>18000.0</td>\n",
       "      <td>\\N</td>\n",
       "      <td>GD-Vaccum Tube Sterile Clot Activator 5ml</td>\n",
       "      <td>Box</td>\n",
       "      <td>28</td>\n",
       "      <td>Diagnostic 1</td>\n",
       "      <td>121</td>\n",
       "      <td>GD</td>\n",
       "      <td>59</td>\n",
       "      <td>RS Santi Graha</td>\n",
       "      <td>Desa Tanguisiu. Seririt. Banjar Dinas Taman Sa...</td>\n",
       "      <td>Tabanan</td>\n",
       "    </tr>\n",
       "    <tr>\n",
       "      <th>2019-03-29</th>\n",
       "      <td>24346</td>\n",
       "      <td>4982-1</td>\n",
       "      <td>CM337B</td>\n",
       "      <td>NaN</td>\n",
       "      <td>3</td>\n",
       "      <td>2500000.0</td>\n",
       "      <td>0.0</td>\n",
       "      <td>200000.0</td>\n",
       "      <td>1034110</td>\n",
       "      <td>OXOID Mueller Hinton Agar 500gram</td>\n",
       "      <td>Botol</td>\n",
       "      <td>30</td>\n",
       "      <td>Mikrobiologi</td>\n",
       "      <td>242</td>\n",
       "      <td>OXOID</td>\n",
       "      <td>17</td>\n",
       "      <td>RSUP Sanglah</td>\n",
       "      <td>Jalan Diponegoro. Dauh Puri Klod. Denpasar Bar...</td>\n",
       "      <td>DENPASAR</td>\n",
       "    </tr>\n",
       "    <tr>\n",
       "      <th>2019-04-08</th>\n",
       "      <td>24299</td>\n",
       "      <td>5050-1</td>\n",
       "      <td>51304</td>\n",
       "      <td>NaN</td>\n",
       "      <td>2</td>\n",
       "      <td>7050000.0</td>\n",
       "      <td>0.0</td>\n",
       "      <td>564000.0</td>\n",
       "      <td>4746720</td>\n",
       "      <td>Qiagen QIAamp DNA Minikit (50)</td>\n",
       "      <td>Box</td>\n",
       "      <td>30</td>\n",
       "      <td>Mikrobiologi</td>\n",
       "      <td>261</td>\n",
       "      <td>QIAGEN</td>\n",
       "      <td>17</td>\n",
       "      <td>RSUP Sanglah</td>\n",
       "      <td>Jalan Diponegoro. Dauh Puri Klod. Denpasar Bar...</td>\n",
       "      <td>DENPASAR</td>\n",
       "    </tr>\n",
       "    <tr>\n",
       "      <th>2019-03-29</th>\n",
       "      <td>24347</td>\n",
       "      <td>4982-2</td>\n",
       "      <td>CM337B</td>\n",
       "      <td>NaN</td>\n",
       "      <td>2</td>\n",
       "      <td>2500000.0</td>\n",
       "      <td>0.0</td>\n",
       "      <td>200000.0</td>\n",
       "      <td>1034110</td>\n",
       "      <td>OXOID Mueller Hinton Agar 500gram</td>\n",
       "      <td>Botol</td>\n",
       "      <td>30</td>\n",
       "      <td>Mikrobiologi</td>\n",
       "      <td>242</td>\n",
       "      <td>OXOID</td>\n",
       "      <td>17</td>\n",
       "      <td>RSUP Sanglah</td>\n",
       "      <td>Jalan Diponegoro. Dauh Puri Klod. Denpasar Bar...</td>\n",
       "      <td>DENPASAR</td>\n",
       "    </tr>\n",
       "  </tbody>\n",
       "</table>\n",
       "</div>"
      ],
      "text/plain": [
       "               id no_faktur idbarang  sn  qtt   hrg_jual   pot_onf   pot_off  \\\n",
       "tgl_jual                                                                       \n",
       "2019-12-31  23287      9139  D1-008E NaN    1  7800000.0  780000.0  780000.0   \n",
       "2019-12-31  23288      9140   GD050A NaN    3   180000.0       0.0   18000.0   \n",
       "2019-03-29  24346    4982-1   CM337B NaN    3  2500000.0       0.0  200000.0   \n",
       "2019-04-08  24299    5050-1    51304 NaN    2  7050000.0       0.0  564000.0   \n",
       "2019-03-29  24347    4982-2   CM337B NaN    2  2500000.0       0.0  200000.0   \n",
       "\n",
       "           hrg_beli                                nama_barang satuan  \\\n",
       "tgl_jual                                                                \n",
       "2019-12-31       \\N           CORNLEY Reagent Pack Electrolite    Box   \n",
       "2019-12-31       \\N  GD-Vaccum Tube Sterile Clot Activator 5ml    Box   \n",
       "2019-03-29  1034110          OXOID Mueller Hinton Agar 500gram  Botol   \n",
       "2019-04-08  4746720             Qiagen QIAamp DNA Minikit (50)    Box   \n",
       "2019-03-29  1034110          OXOID Mueller Hinton Agar 500gram  Botol   \n",
       "\n",
       "           idkategori nama_kategori merek nama_merek  idcustomer  \\\n",
       "tgl_jual                                                           \n",
       "2019-12-31         28  Diagnostic 1    74    CORNLEY          46   \n",
       "2019-12-31         28  Diagnostic 1   121         GD          59   \n",
       "2019-03-29         30  Mikrobiologi   242      OXOID          17   \n",
       "2019-04-08         30  Mikrobiologi   261     QIAGEN          17   \n",
       "2019-03-29         30  Mikrobiologi   242      OXOID          17   \n",
       "\n",
       "                nama_customer  \\\n",
       "tgl_jual                        \n",
       "2019-12-31  RSU Dharma Yadnya   \n",
       "2019-12-31     RS Santi Graha   \n",
       "2019-03-29       RSUP Sanglah   \n",
       "2019-04-08       RSUP Sanglah   \n",
       "2019-03-29       RSUP Sanglah   \n",
       "\n",
       "                                                       alamat      kota  \n",
       "tgl_jual                                                                 \n",
       "2019-12-31  Jl. WR. Supratman No. 256. Tohati. Jl. Wage Ru...  Denpasar  \n",
       "2019-12-31  Desa Tanguisiu. Seririt. Banjar Dinas Taman Sa...   Tabanan  \n",
       "2019-03-29  Jalan Diponegoro. Dauh Puri Klod. Denpasar Bar...  DENPASAR  \n",
       "2019-04-08  Jalan Diponegoro. Dauh Puri Klod. Denpasar Bar...  DENPASAR  \n",
       "2019-03-29  Jalan Diponegoro. Dauh Puri Klod. Denpasar Bar...  DENPASAR  "
      ]
     },
     "execution_count": 4,
     "metadata": {},
     "output_type": "execute_result"
    }
   ],
   "source": [
    "# cek lima data akhir\n",
    "dts.tail()"
   ]
  },
  {
   "cell_type": "code",
   "execution_count": 5,
   "id": "d09ba188",
   "metadata": {},
   "outputs": [
    {
     "name": "stdout",
     "output_type": "stream",
     "text": [
      "<class 'pandas.core.frame.DataFrame'>\n",
      "DatetimeIndex: 17107 entries, 2016-01-04 to 2019-03-29\n",
      "Data columns (total 19 columns):\n",
      " #   Column         Non-Null Count  Dtype  \n",
      "---  ------         --------------  -----  \n",
      " 0   id             17107 non-null  int64  \n",
      " 1   no_faktur      17107 non-null  object \n",
      " 2   idbarang       17103 non-null  object \n",
      " 3   sn             0 non-null      float64\n",
      " 4   qtt            17107 non-null  int64  \n",
      " 5   hrg_jual       17107 non-null  float64\n",
      " 6   pot_onf        17107 non-null  float64\n",
      " 7   pot_off        17107 non-null  float64\n",
      " 8   hrg_beli       17107 non-null  object \n",
      " 9   nama_barang    17107 non-null  object \n",
      " 10  satuan         17051 non-null  object \n",
      " 11  idkategori     17107 non-null  object \n",
      " 12  nama_kategori  17107 non-null  object \n",
      " 13  merek          17107 non-null  object \n",
      " 14  nama_merek     17107 non-null  object \n",
      " 15  idcustomer     17107 non-null  int64  \n",
      " 16  nama_customer  17107 non-null  object \n",
      " 17  alamat         16326 non-null  object \n",
      " 18  kota           17107 non-null  object \n",
      "dtypes: float64(4), int64(3), object(12)\n",
      "memory usage: 2.6+ MB\n"
     ]
    }
   ],
   "source": [
    "#cek type data\n",
    "dts.info()"
   ]
  },
  {
   "cell_type": "code",
   "execution_count": 6,
   "id": "b95f846d",
   "metadata": {},
   "outputs": [],
   "source": [
    "# karena tidak semua fitur digunakan, maka dilakukan penghapusan fitur yang tidak digunakan\n",
    "# fitur yang dipertahankan untuk analisis adalah 'tgl_jual', 'qtt', 'kota', 'nama_kategori'\n",
    "# fitur 'kota' dan 'nama_kategori' digunakan untuk mengelompokkan dataset per kota per nama_kategori..agar dapat melakukan prediksi jumlah barang yang dapat dijual untuk setiap kategori di kota tertentu\n",
    "dt_an=dts.drop(['id', 'no_faktur', 'idbarang', 'sn', 'pot_onf',\n",
    "       'pot_off', 'hrg_beli','nama_barang', 'satuan',\n",
    "       'idkategori', 'merek', 'nama_merek', 'idcustomer','hrg_jual',\n",
    "       'nama_customer', 'alamat'],axis='columns')"
   ]
  },
  {
   "cell_type": "code",
   "execution_count": 7,
   "id": "1757446f",
   "metadata": {},
   "outputs": [
    {
     "data": {
      "text/html": [
       "<div>\n",
       "<style scoped>\n",
       "    .dataframe tbody tr th:only-of-type {\n",
       "        vertical-align: middle;\n",
       "    }\n",
       "\n",
       "    .dataframe tbody tr th {\n",
       "        vertical-align: top;\n",
       "    }\n",
       "\n",
       "    .dataframe thead th {\n",
       "        text-align: right;\n",
       "    }\n",
       "</style>\n",
       "<table border=\"1\" class=\"dataframe\">\n",
       "  <thead>\n",
       "    <tr style=\"text-align: right;\">\n",
       "      <th></th>\n",
       "      <th>qtt</th>\n",
       "      <th>nama_kategori</th>\n",
       "      <th>kota</th>\n",
       "    </tr>\n",
       "    <tr>\n",
       "      <th>tgl_jual</th>\n",
       "      <th></th>\n",
       "      <th></th>\n",
       "      <th></th>\n",
       "    </tr>\n",
       "  </thead>\n",
       "  <tbody>\n",
       "    <tr>\n",
       "      <th>2016-01-04</th>\n",
       "      <td>1</td>\n",
       "      <td>MIKROBIOLOGI</td>\n",
       "      <td>DENPASAR</td>\n",
       "    </tr>\n",
       "    <tr>\n",
       "      <th>2016-01-04</th>\n",
       "      <td>1</td>\n",
       "      <td>MIKROBIOLOGI</td>\n",
       "      <td>BADUNG</td>\n",
       "    </tr>\n",
       "    <tr>\n",
       "      <th>2016-01-04</th>\n",
       "      <td>1</td>\n",
       "      <td>MIKROBIOLOGI</td>\n",
       "      <td>BADUNG</td>\n",
       "    </tr>\n",
       "    <tr>\n",
       "      <th>2016-01-04</th>\n",
       "      <td>1</td>\n",
       "      <td>MIKROBIOLOGI</td>\n",
       "      <td>BADUNG</td>\n",
       "    </tr>\n",
       "    <tr>\n",
       "      <th>2016-01-04</th>\n",
       "      <td>1</td>\n",
       "      <td>MIKROBIOLOGI</td>\n",
       "      <td>BADUNG</td>\n",
       "    </tr>\n",
       "    <tr>\n",
       "      <th>...</th>\n",
       "      <td>...</td>\n",
       "      <td>...</td>\n",
       "      <td>...</td>\n",
       "    </tr>\n",
       "    <tr>\n",
       "      <th>2019-12-31</th>\n",
       "      <td>1</td>\n",
       "      <td>DIAGNOSTIC 1</td>\n",
       "      <td>DENPASAR</td>\n",
       "    </tr>\n",
       "    <tr>\n",
       "      <th>2019-12-31</th>\n",
       "      <td>3</td>\n",
       "      <td>DIAGNOSTIC 1</td>\n",
       "      <td>TABANAN</td>\n",
       "    </tr>\n",
       "    <tr>\n",
       "      <th>2019-03-29</th>\n",
       "      <td>3</td>\n",
       "      <td>MIKROBIOLOGI</td>\n",
       "      <td>DENPASAR</td>\n",
       "    </tr>\n",
       "    <tr>\n",
       "      <th>2019-04-08</th>\n",
       "      <td>2</td>\n",
       "      <td>MIKROBIOLOGI</td>\n",
       "      <td>DENPASAR</td>\n",
       "    </tr>\n",
       "    <tr>\n",
       "      <th>2019-03-29</th>\n",
       "      <td>2</td>\n",
       "      <td>MIKROBIOLOGI</td>\n",
       "      <td>DENPASAR</td>\n",
       "    </tr>\n",
       "  </tbody>\n",
       "</table>\n",
       "<p>17107 rows × 3 columns</p>\n",
       "</div>"
      ],
      "text/plain": [
       "            qtt nama_kategori      kota\n",
       "tgl_jual                               \n",
       "2016-01-04    1  MIKROBIOLOGI  DENPASAR\n",
       "2016-01-04    1  MIKROBIOLOGI    BADUNG\n",
       "2016-01-04    1  MIKROBIOLOGI    BADUNG\n",
       "2016-01-04    1  MIKROBIOLOGI    BADUNG\n",
       "2016-01-04    1  MIKROBIOLOGI    BADUNG\n",
       "...         ...           ...       ...\n",
       "2019-12-31    1  DIAGNOSTIC 1  DENPASAR\n",
       "2019-12-31    3  DIAGNOSTIC 1   TABANAN\n",
       "2019-03-29    3  MIKROBIOLOGI  DENPASAR\n",
       "2019-04-08    2  MIKROBIOLOGI  DENPASAR\n",
       "2019-03-29    2  MIKROBIOLOGI  DENPASAR\n",
       "\n",
       "[17107 rows x 3 columns]"
      ]
     },
     "execution_count": 7,
     "metadata": {},
     "output_type": "execute_result"
    }
   ],
   "source": [
    "# kota dan nama_kategori dibuat kapital\n",
    "dt_an['kota']=dt_an['kota'].str.upper()\n",
    "dt_an['nama_kategori']=dt_an['nama_kategori'].str.upper()\n",
    "dt_an"
   ]
  },
  {
   "cell_type": "code",
   "execution_count": 8,
   "id": "0ccad047",
   "metadata": {},
   "outputs": [
    {
     "data": {
      "text/plain": [
       "0"
      ]
     },
     "execution_count": 8,
     "metadata": {},
     "output_type": "execute_result"
    }
   ],
   "source": [
    "#cek data kosong \n",
    "dt_an.isnull().sum().sum()"
   ]
  },
  {
   "cell_type": "code",
   "execution_count": 9,
   "id": "fa341b81",
   "metadata": {},
   "outputs": [],
   "source": [
    "#mengelompokkan data berdasarkan kota dan nama_kategori\n",
    "dtg=dt_an.groupby(['kota','nama_kategori'])"
   ]
  },
  {
   "cell_type": "code",
   "execution_count": 10,
   "id": "debd8283",
   "metadata": {},
   "outputs": [
    {
     "data": {
      "text/html": [
       "<div>\n",
       "<style scoped>\n",
       "    .dataframe tbody tr th:only-of-type {\n",
       "        vertical-align: middle;\n",
       "    }\n",
       "\n",
       "    .dataframe tbody tr th {\n",
       "        vertical-align: top;\n",
       "    }\n",
       "\n",
       "    .dataframe thead th {\n",
       "        text-align: right;\n",
       "    }\n",
       "</style>\n",
       "<table border=\"1\" class=\"dataframe\">\n",
       "  <thead>\n",
       "    <tr style=\"text-align: right;\">\n",
       "      <th></th>\n",
       "      <th>qtt</th>\n",
       "      <th>nama_kategori</th>\n",
       "      <th>kota</th>\n",
       "    </tr>\n",
       "    <tr>\n",
       "      <th>tgl_jual</th>\n",
       "      <th></th>\n",
       "      <th></th>\n",
       "      <th></th>\n",
       "    </tr>\n",
       "  </thead>\n",
       "  <tbody>\n",
       "    <tr>\n",
       "      <th>2016-01-04</th>\n",
       "      <td>1</td>\n",
       "      <td>MIKROBIOLOGI</td>\n",
       "      <td>DENPASAR</td>\n",
       "    </tr>\n",
       "    <tr>\n",
       "      <th>2016-01-11</th>\n",
       "      <td>1</td>\n",
       "      <td>MIKROBIOLOGI</td>\n",
       "      <td>DENPASAR</td>\n",
       "    </tr>\n",
       "    <tr>\n",
       "      <th>2016-01-12</th>\n",
       "      <td>1</td>\n",
       "      <td>MIKROBIOLOGI</td>\n",
       "      <td>DENPASAR</td>\n",
       "    </tr>\n",
       "    <tr>\n",
       "      <th>2016-01-18</th>\n",
       "      <td>1</td>\n",
       "      <td>MIKROBIOLOGI</td>\n",
       "      <td>DENPASAR</td>\n",
       "    </tr>\n",
       "    <tr>\n",
       "      <th>2016-01-18</th>\n",
       "      <td>1</td>\n",
       "      <td>MIKROBIOLOGI</td>\n",
       "      <td>DENPASAR</td>\n",
       "    </tr>\n",
       "    <tr>\n",
       "      <th>...</th>\n",
       "      <td>...</td>\n",
       "      <td>...</td>\n",
       "      <td>...</td>\n",
       "    </tr>\n",
       "    <tr>\n",
       "      <th>2019-12-31</th>\n",
       "      <td>20</td>\n",
       "      <td>MIKROBIOLOGI</td>\n",
       "      <td>DENPASAR</td>\n",
       "    </tr>\n",
       "    <tr>\n",
       "      <th>2019-12-31</th>\n",
       "      <td>1</td>\n",
       "      <td>MIKROBIOLOGI</td>\n",
       "      <td>DENPASAR</td>\n",
       "    </tr>\n",
       "    <tr>\n",
       "      <th>2019-03-29</th>\n",
       "      <td>3</td>\n",
       "      <td>MIKROBIOLOGI</td>\n",
       "      <td>DENPASAR</td>\n",
       "    </tr>\n",
       "    <tr>\n",
       "      <th>2019-04-08</th>\n",
       "      <td>2</td>\n",
       "      <td>MIKROBIOLOGI</td>\n",
       "      <td>DENPASAR</td>\n",
       "    </tr>\n",
       "    <tr>\n",
       "      <th>2019-03-29</th>\n",
       "      <td>2</td>\n",
       "      <td>MIKROBIOLOGI</td>\n",
       "      <td>DENPASAR</td>\n",
       "    </tr>\n",
       "  </tbody>\n",
       "</table>\n",
       "<p>1872 rows × 3 columns</p>\n",
       "</div>"
      ],
      "text/plain": [
       "            qtt nama_kategori      kota\n",
       "tgl_jual                               \n",
       "2016-01-04    1  MIKROBIOLOGI  DENPASAR\n",
       "2016-01-11    1  MIKROBIOLOGI  DENPASAR\n",
       "2016-01-12    1  MIKROBIOLOGI  DENPASAR\n",
       "2016-01-18    1  MIKROBIOLOGI  DENPASAR\n",
       "2016-01-18    1  MIKROBIOLOGI  DENPASAR\n",
       "...         ...           ...       ...\n",
       "2019-12-31   20  MIKROBIOLOGI  DENPASAR\n",
       "2019-12-31    1  MIKROBIOLOGI  DENPASAR\n",
       "2019-03-29    3  MIKROBIOLOGI  DENPASAR\n",
       "2019-04-08    2  MIKROBIOLOGI  DENPASAR\n",
       "2019-03-29    2  MIKROBIOLOGI  DENPASAR\n",
       "\n",
       "[1872 rows x 3 columns]"
      ]
     },
     "execution_count": 10,
     "metadata": {},
     "output_type": "execute_result"
    }
   ],
   "source": [
    "dtg=dtg.get_group(('DENPASAR','MIKROBIOLOGI'))\n",
    "dtg"
   ]
  },
  {
   "cell_type": "code",
   "execution_count": 11,
   "id": "89cda25d",
   "metadata": {},
   "outputs": [
    {
     "data": {
      "text/plain": [
       "(1872, 3)"
      ]
     },
     "execution_count": 11,
     "metadata": {},
     "output_type": "execute_result"
    }
   ],
   "source": [
    "dtg.shape"
   ]
  },
  {
   "cell_type": "code",
   "execution_count": 12,
   "id": "81f55441",
   "metadata": {},
   "outputs": [
    {
     "data": {
      "text/html": [
       "<div>\n",
       "<style scoped>\n",
       "    .dataframe tbody tr th:only-of-type {\n",
       "        vertical-align: middle;\n",
       "    }\n",
       "\n",
       "    .dataframe tbody tr th {\n",
       "        vertical-align: top;\n",
       "    }\n",
       "\n",
       "    .dataframe thead th {\n",
       "        text-align: right;\n",
       "    }\n",
       "</style>\n",
       "<table border=\"1\" class=\"dataframe\">\n",
       "  <thead>\n",
       "    <tr style=\"text-align: right;\">\n",
       "      <th></th>\n",
       "      <th>qtt</th>\n",
       "    </tr>\n",
       "  </thead>\n",
       "  <tbody>\n",
       "    <tr>\n",
       "      <th>count</th>\n",
       "      <td>1872.000000</td>\n",
       "    </tr>\n",
       "    <tr>\n",
       "      <th>mean</th>\n",
       "      <td>4.802350</td>\n",
       "    </tr>\n",
       "    <tr>\n",
       "      <th>std</th>\n",
       "      <td>30.682395</td>\n",
       "    </tr>\n",
       "    <tr>\n",
       "      <th>min</th>\n",
       "      <td>0.000000</td>\n",
       "    </tr>\n",
       "    <tr>\n",
       "      <th>25%</th>\n",
       "      <td>1.000000</td>\n",
       "    </tr>\n",
       "    <tr>\n",
       "      <th>50%</th>\n",
       "      <td>1.000000</td>\n",
       "    </tr>\n",
       "    <tr>\n",
       "      <th>75%</th>\n",
       "      <td>2.000000</td>\n",
       "    </tr>\n",
       "    <tr>\n",
       "      <th>max</th>\n",
       "      <td>1020.000000</td>\n",
       "    </tr>\n",
       "  </tbody>\n",
       "</table>\n",
       "</div>"
      ],
      "text/plain": [
       "               qtt\n",
       "count  1872.000000\n",
       "mean      4.802350\n",
       "std      30.682395\n",
       "min       0.000000\n",
       "25%       1.000000\n",
       "50%       1.000000\n",
       "75%       2.000000\n",
       "max    1020.000000"
      ]
     },
     "execution_count": 12,
     "metadata": {},
     "output_type": "execute_result"
    }
   ],
   "source": [
    "#statistik deskriptive\n",
    "dtg.describe()"
   ]
  },
  {
   "cell_type": "code",
   "execution_count": 13,
   "id": "62738770",
   "metadata": {},
   "outputs": [
    {
     "data": {
      "image/png": "[encoded data removed]",
      "text/plain": [
       "<Figure size 432x288 with 1 Axes>"
      ]
     },
     "metadata": {
      "needs_background": "light"
     },
     "output_type": "display_data"
    }
   ],
   "source": [
    "# visualisasi data \n",
    "dtg_viz=dtg.plot()"
   ]
  },
  {
   "cell_type": "code",
   "execution_count": 14,
   "id": "b2ac246e",
   "metadata": {},
   "outputs": [],
   "source": [
    "# resampling ke data bulanan deng menjumlahkan rata-rata\n",
    "dtg_b=dtg.resample('M').mean()"
   ]
  },
  {
   "cell_type": "code",
   "execution_count": 15,
   "id": "a5ec49d4",
   "metadata": {},
   "outputs": [
    {
     "data": {
      "text/plain": [
       "<AxesSubplot:xlabel='tgl_jual'>"
      ]
     },
     "execution_count": 15,
     "metadata": {},
     "output_type": "execute_result"
    },
    {
     "data": {
      "image/png": "[encoded data removed]",
      "text/plain": [
       "<Figure size 432x288 with 1 Axes>"
      ]
     },
     "metadata": {
      "needs_background": "light"
     },
     "output_type": "display_data"
    }
   ],
   "source": [
    "dtg_b.plot()"
   ]
  },
  {
   "cell_type": "code",
   "execution_count": 16,
   "id": "1c1da29a",
   "metadata": {},
   "outputs": [],
   "source": [
    "# Dekompose\n",
    "from statsmodels.tsa.seasonal import seasonal_decompose"
   ]
  },
  {
   "cell_type": "code",
   "execution_count": 17,
   "id": "eee992cb",
   "metadata": {},
   "outputs": [],
   "source": [
    "seas_add=seasonal_decompose(dtg_b, model='additive')"
   ]
  },
  {
   "cell_type": "code",
   "execution_count": 18,
   "id": "c9c74752",
   "metadata": {},
   "outputs": [
    {
     "data": {
      "image/png": "[encoded data removed]",
      "text/plain": [
       "<Figure size 432x288 with 4 Axes>"
      ]
     },
     "execution_count": 18,
     "metadata": {},
     "output_type": "execute_result"
    },
    {
     "data": {
      "image/png": "[encoded data removed]",
      "text/plain": [
       "<Figure size 432x288 with 4 Axes>"
      ]
     },
     "metadata": {
      "needs_background": "light"
     },
     "output_type": "display_data"
    }
   ],
   "source": [
    "seas_add.plot()"
   ]
  },
  {
   "cell_type": "code",
   "execution_count": 19,
   "id": "b89123d6",
   "metadata": {},
   "outputs": [
    {
     "data": {
      "image/png": "[encoded data removed]",
      "text/plain": [
       "<Figure size 432x288 with 4 Axes>"
      ]
     },
     "metadata": {
      "needs_background": "light"
     },
     "output_type": "display_data"
    }
   ],
   "source": [
    "seas_mul=seasonal_decompose(dtg_b, model='multiplicative').plot()"
   ]
  },
  {
   "cell_type": "code",
   "execution_count": 20,
   "id": "0cc54f52",
   "metadata": {},
   "outputs": [
    {
     "data": {
      "text/plain": [
       "<AxesSubplot:xlabel='Lag', ylabel='Autocorrelation'>"
      ]
     },
     "execution_count": 20,
     "metadata": {},
     "output_type": "execute_result"
    },
    {
     "data": {
      "image/png": "[encoded data removed]",
      "text/plain": [
       "<Figure size 432x288 with 1 Axes>"
      ]
     },
     "metadata": {
      "needs_background": "light"
     },
     "output_type": "display_data"
    }
   ],
   "source": [
    "# plot autocorelasi \n",
    "from pandas.plotting import autocorrelation_plot\n",
    "autocorrelation_plot(dtg_b)"
   ]
  },
  {
   "cell_type": "code",
   "execution_count": 21,
   "id": "15b65d41",
   "metadata": {},
   "outputs": [],
   "source": [
    "# dari ploting autocorrelation di atas, maka nilai p berada di sekitar 3 p=3, \n",
    "# nilai diff dapat dilihat dari trend line yang lebih mengarah ke polinomial d=2\n",
    "# q untuk banyaknya windows untuk MA q=1"
   ]
  },
  {
   "cell_type": "code",
   "execution_count": 22,
   "id": "be157317",
   "metadata": {},
   "outputs": [],
   "source": [
    "# lihat partial autocorrelation\n",
    "from statsmodels.graphics.tsaplots import plot_pacf"
   ]
  },
  {
   "cell_type": "code",
   "execution_count": 23,
   "id": "133ba411",
   "metadata": {},
   "outputs": [
    {
     "name": "stderr",
     "output_type": "stream",
     "text": [
      "/home/alif/Documents/dtstAkhir/venv/lib/python3.9/site-packages/statsmodels/graphics/tsaplots.py:348: FutureWarning: The default method 'yw' can produce PACF values outside of the [-1,1] interval. After 0.13, the default will change tounadjusted Yule-Walker ('ywm'). You can use this method now by setting method='ywm'.\n",
      "  warnings.warn(\n"
     ]
    },
    {
     "data": {
      "image/png": "[encoded data removed]",
      "text/plain": [
       "<Figure size 432x288 with 1 Axes>"
      ]
     },
     "execution_count": 23,
     "metadata": {},
     "output_type": "execute_result"
    },
    {
     "data": {
      "image/png": "[encoded data removed]",
      "text/plain": [
       "<Figure size 432x288 with 1 Axes>"
      ]
     },
     "metadata": {
      "needs_background": "light"
     },
     "output_type": "display_data"
    }
   ],
   "source": [
    "plot_pacf(dtg_b,lags=20)"
   ]
  },
  {
   "cell_type": "markdown",
   "id": "7c0c876a",
   "metadata": {},
   "source": [
    "# Model ARIMA"
   ]
  },
  {
   "cell_type": "code",
   "execution_count": 24,
   "id": "54eabb5f",
   "metadata": {},
   "outputs": [],
   "source": [
    "from statsmodels.tsa.arima.model import ARIMA"
   ]
  },
  {
   "cell_type": "code",
   "execution_count": 25,
   "id": "0addabe2",
   "metadata": {},
   "outputs": [],
   "source": [
    "model=ARIMA((dtg_b),order=(3,2,1))"
   ]
  },
  {
   "cell_type": "code",
   "execution_count": 26,
   "id": "f3e6f688",
   "metadata": {},
   "outputs": [],
   "source": [
    "fit_model=model.fit()"
   ]
  },
  {
   "cell_type": "code",
   "execution_count": 27,
   "id": "8b8cd1d3",
   "metadata": {},
   "outputs": [
    {
     "data": {
      "text/html": [
       "<table class=\"simpletable\">\n",
       "<caption>SARIMAX Results</caption>\n",
       "<tr>\n",
       "  <th>Dep. Variable:</th>          <td>qtt</td>       <th>  No. Observations:  </th>    <td>48</td>   \n",
       "</tr>\n",
       "<tr>\n",
       "  <th>Model:</th>            <td>ARIMA(3, 2, 1)</td>  <th>  Log Likelihood     </th> <td>-140.381</td>\n",
       "</tr>\n",
       "<tr>\n",
       "  <th>Date:</th>            <td>Mon, 04 Oct 2021</td> <th>  AIC                </th>  <td>290.763</td>\n",
       "</tr>\n",
       "<tr>\n",
       "  <th>Time:</th>                <td>17:47:16</td>     <th>  BIC                </th>  <td>299.906</td>\n",
       "</tr>\n",
       "<tr>\n",
       "  <th>Sample:</th>             <td>01-31-2016</td>    <th>  HQIC               </th>  <td>294.188</td>\n",
       "</tr>\n",
       "<tr>\n",
       "  <th></th>                   <td>- 12-31-2019</td>   <th>                     </th>     <td> </td>   \n",
       "</tr>\n",
       "<tr>\n",
       "  <th>Covariance Type:</th>        <td>opg</td>       <th>                     </th>     <td> </td>   \n",
       "</tr>\n",
       "</table>\n",
       "<table class=\"simpletable\">\n",
       "<tr>\n",
       "     <td></td>       <th>coef</th>     <th>std err</th>      <th>z</th>      <th>P>|z|</th>  <th>[0.025</th>    <th>0.975]</th>  \n",
       "</tr>\n",
       "<tr>\n",
       "  <th>ar.L1</th>  <td>   -0.7166</td> <td>    0.120</td> <td>   -5.993</td> <td> 0.000</td> <td>   -0.951</td> <td>   -0.482</td>\n",
       "</tr>\n",
       "<tr>\n",
       "  <th>ar.L2</th>  <td>   -0.5526</td> <td>    0.138</td> <td>   -3.994</td> <td> 0.000</td> <td>   -0.824</td> <td>   -0.281</td>\n",
       "</tr>\n",
       "<tr>\n",
       "  <th>ar.L3</th>  <td>   -0.4406</td> <td>    0.085</td> <td>   -5.191</td> <td> 0.000</td> <td>   -0.607</td> <td>   -0.274</td>\n",
       "</tr>\n",
       "<tr>\n",
       "  <th>ma.L1</th>  <td>   -0.9998</td> <td>   27.368</td> <td>   -0.037</td> <td> 0.971</td> <td>  -54.640</td> <td>   52.640</td>\n",
       "</tr>\n",
       "<tr>\n",
       "  <th>sigma2</th> <td>   22.5758</td> <td>  615.391</td> <td>    0.037</td> <td> 0.971</td> <td>-1183.569</td> <td> 1228.721</td>\n",
       "</tr>\n",
       "</table>\n",
       "<table class=\"simpletable\">\n",
       "<tr>\n",
       "  <th>Ljung-Box (L1) (Q):</th>     <td>0.08</td> <th>  Jarque-Bera (JB):  </th> <td>49.31</td>\n",
       "</tr>\n",
       "<tr>\n",
       "  <th>Prob(Q):</th>                <td>0.78</td> <th>  Prob(JB):          </th> <td>0.00</td> \n",
       "</tr>\n",
       "<tr>\n",
       "  <th>Heteroskedasticity (H):</th> <td>0.88</td> <th>  Skew:              </th> <td>1.09</td> \n",
       "</tr>\n",
       "<tr>\n",
       "  <th>Prob(H) (two-sided):</th>    <td>0.81</td> <th>  Kurtosis:          </th> <td>7.58</td> \n",
       "</tr>\n",
       "</table><br/><br/>Warnings:<br/>[1] Covariance matrix calculated using the outer product of gradients (complex-step)."
      ],
      "text/plain": [
       "<class 'statsmodels.iolib.summary.Summary'>\n",
       "\"\"\"\n",
       "                               SARIMAX Results                                \n",
       "==============================================================================\n",
       "Dep. Variable:                    qtt   No. Observations:                   48\n",
       "Model:                 ARIMA(3, 2, 1)   Log Likelihood                -140.381\n",
       "Date:                Mon, 04 Oct 2021   AIC                            290.763\n",
       "Time:                        17:47:16   BIC                            299.906\n",
       "Sample:                    01-31-2016   HQIC                           294.188\n",
       "                         - 12-31-2019                                         \n",
       "Covariance Type:                  opg                                         \n",
       "==============================================================================\n",
       "                 coef    std err          z      P>|z|      [0.025      0.975]\n",
       "------------------------------------------------------------------------------\n",
       "ar.L1         -0.7166      0.120     -5.993      0.000      -0.951      -0.482\n",
       "ar.L2         -0.5526      0.138     -3.994      0.000      -0.824      -0.281\n",
       "ar.L3         -0.4406      0.085     -5.191      0.000      -0.607      -0.274\n",
       "ma.L1         -0.9998     27.368     -0.037      0.971     -54.640      52.640\n",
       "sigma2        22.5758    615.391      0.037      0.971   -1183.569    1228.721\n",
       "===================================================================================\n",
       "Ljung-Box (L1) (Q):                   0.08   Jarque-Bera (JB):                49.31\n",
       "Prob(Q):                              0.78   Prob(JB):                         0.00\n",
       "Heteroskedasticity (H):               0.88   Skew:                             1.09\n",
       "Prob(H) (two-sided):                  0.81   Kurtosis:                         7.58\n",
       "===================================================================================\n",
       "\n",
       "Warnings:\n",
       "[1] Covariance matrix calculated using the outer product of gradients (complex-step).\n",
       "\"\"\""
      ]
     },
     "execution_count": 27,
     "metadata": {},
     "output_type": "execute_result"
    }
   ],
   "source": [
    "fit_model.summary()"
   ]
  },
  {
   "cell_type": "code",
   "execution_count": 28,
   "id": "5d00b0e5",
   "metadata": {},
   "outputs": [
    {
     "data": {
      "image/png": "[encoded data removed]",
      "text/plain": [
       "<Figure size 432x288 with 1 Axes>"
      ]
     },
     "metadata": {
      "needs_background": "light"
     },
     "output_type": "display_data"
    }
   ],
   "source": [
    "#plot residu\n",
    "residu=fit_model.resid.plot()"
   ]
  },
  {
   "cell_type": "code",
   "execution_count": 29,
   "id": "1a4db1fa",
   "metadata": {},
   "outputs": [
    {
     "data": {
      "text/plain": [
       "2020-01-31    6.428142\n",
       "2020-02-29    5.770932\n",
       "2020-03-31    5.972649\n",
       "2020-04-30    9.165033\n",
       "2020-05-31    7.072119\n",
       "Freq: M, Name: predicted_mean, dtype: float64"
      ]
     },
     "execution_count": 29,
     "metadata": {},
     "output_type": "execute_result"
    }
   ],
   "source": [
    "hasil_pred=fit_model.forecast(5)\n",
    "hasil_pred"
   ]
  },
  {
   "cell_type": "code",
   "execution_count": 30,
   "id": "998e899b",
   "metadata": {},
   "outputs": [
    {
     "data": {
      "text/plain": [
       "tgl_jual\n",
       "2016-01-31     0.000000\n",
       "2016-02-29     9.812446\n",
       "2016-03-31    20.388188\n",
       "2016-04-30     2.994354\n",
       "2016-05-31    -0.423963\n",
       "Freq: M, Name: predicted_mean, dtype: float64"
      ]
     },
     "execution_count": 30,
     "metadata": {},
     "output_type": "execute_result"
    }
   ],
   "source": [
    "yh=fit_model.predict()\n",
    "yh.head()"
   ]
  },
  {
   "cell_type": "code",
   "execution_count": 31,
   "id": "00de724b",
   "metadata": {},
   "outputs": [
    {
     "data": {
      "text/plain": [
       "[<matplotlib.lines.Line2D at 0x7f905f678520>]"
      ]
     },
     "execution_count": 31,
     "metadata": {},
     "output_type": "execute_result"
    },
    {
     "data": {
      "image/png": "[encoded data removed]",
      "text/plain": [
       "<Figure size 432x288 with 1 Axes>"
      ]
     },
     "metadata": {
      "needs_background": "light"
     },
     "output_type": "display_data"
    }
   ],
   "source": [
    "plt.plot(dtg_b)\n",
    "plt.plot(yh,color='red')"
   ]
  },
  {
   "cell_type": "code",
   "execution_count": 35,
   "id": "33ee2a9c",
   "metadata": {},
   "outputs": [],
   "source": [
    "uk_train=int(dtg_b.shape[0]*0.8)\n",
    "X=dtg_b.values\n",
    "train, test =X[0:uk_train],X[uk_train:]"
   ]
  },
  {
   "cell_type": "code",
   "execution_count": 36,
   "id": "812d577c",
   "metadata": {},
   "outputs": [
    {
     "data": {
      "text/plain": [
       "array([[ 1.5       ],\n",
       "       [ 5.0625    ],\n",
       "       [ 5.31034483],\n",
       "       [ 8.35294118],\n",
       "       [ 3.08695652],\n",
       "       [12.35294118],\n",
       "       [ 3.82142857],\n",
       "       [ 3.        ],\n",
       "       [ 4.07317073],\n",
       "       [13.13953488]])"
      ]
     },
     "execution_count": 36,
     "metadata": {},
     "output_type": "execute_result"
    }
   ],
   "source": [
    "test"
   ]
  },
  {
   "cell_type": "code",
   "execution_count": 38,
   "id": "ec86fece",
   "metadata": {},
   "outputs": [
    {
     "name": "stdout",
     "output_type": "stream",
     "text": [
      "prediksi=1.492578, observasi=1.500000\n",
      "prediksi=1.421487, observasi=5.062500\n",
      "prediksi=2.710669, observasi=5.310345\n",
      "prediksi=3.408548, observasi=8.352941\n",
      "prediksi=4.710301, observasi=3.086957\n",
      "prediksi=4.890790, observasi=12.352941\n",
      "prediksi=7.400910, observasi=3.821429\n",
      "prediksi=7.350162, observasi=3.000000\n",
      "prediksi=4.280168, observasi=4.073171\n",
      "prediksi=7.006092, observasi=13.139535\n",
      "Test RMSE: 4.149\n"
     ]
    },
    {
     "data": {
      "image/png": "[encoded data removed]",
      "text/plain": [
       "<Figure size 432x288 with 1 Axes>"
      ]
     },
     "metadata": {
      "needs_background": "light"
     },
     "output_type": "display_data"
    }
   ],
   "source": [
    "# Evaluasi dengan model walk forward arima\n",
    "# split train dan test\n",
    "\n",
    "log= [x for x in train]\n",
    "lst_prediksi = list()\n",
    "\n",
    "for t in range(len(test)):\n",
    "\tmodel = ARIMA(log, order=(3,2,1))\n",
    "\tfit_model = model.fit()\n",
    "\thasil = fit_model.forecast()\n",
    "\tyh = hasil[0]\n",
    "\tlst_prediksi.append(yh)\n",
    "\tobs = test[t]\n",
    "\tlog.append(obs)\n",
    "\tprint('prediksi=%f, observasi=%f' % (yh, obs))\n",
    "    \n",
    "# evaluasi forcast\n",
    "rmse = sqrt(mean_squared_error(test, lst_prediksi))\n",
    "print('Test RMSE: %.3f' % rmse)\n",
    "# plot forecasts vs outcomes\n",
    "plt.plot(test)\n",
    "plt.plot(lst_prediksi)\n",
    "plt.show()"
   ]
  }
 ],
 "metadata": {
  "kernelspec": {
   "display_name": "Python 3 (ipykernel)",
   "language": "python",
   "name": "python3"
  },
  "language_info": {
   "codemirror_mode": {
    "name": "ipython",
    "version": 3
   },
   "file_extension": ".py",
   "mimetype": "text/x-python",
   "name": "python",
   "nbconvert_exporter": "python",
   "pygments_lexer": "ipython3",
   "version": "3.8.8"
  }
 },
 "nbformat": 4,
 "nbformat_minor": 5
}
